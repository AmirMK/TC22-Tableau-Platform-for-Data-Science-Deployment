{
 "cells": [
  {
   "cell_type": "code",
   "execution_count": 1,
   "id": "467cc1d6",
   "metadata": {},
   "outputs": [],
   "source": [
    "from ortools.algorithms import pywrapknapsack_solver\n",
    "from tabpy.tabpy_tools.client import Client"
   ]
  },
  {
   "cell_type": "code",
   "execution_count": 3,
   "id": "931eaec2",
   "metadata": {},
   "outputs": [],
   "source": [
    "#Build the optimization model to solve Knapsack problem\n",
    "def Optimize_Coverage(Population,Cost, Budget):\n",
    "    \n",
    "    solver = pywrapknapsack_solver.KnapsackSolver(\n",
    "        pywrapknapsack_solver.KnapsackSolver.\n",
    "        KNAPSACK_MULTIDIMENSION_BRANCH_AND_BOUND_SOLVER, 'KnapsackExample')\n",
    "\n",
    "    solver.Init(Population, [Cost], [Budget[0]])        \n",
    "    solver.Solve()    \n",
    "    solution=[False]*len(Population)\n",
    "    for i in range(len(Population)):\n",
    "        if solver.BestSolutionContains(i):            \n",
    "            solution[i]=True\n",
    "    return solution\n"
   ]
  },
  {
   "cell_type": "code",
   "execution_count": 10,
   "id": "0fc836cb",
   "metadata": {},
   "outputs": [
    {
     "name": "stderr",
     "output_type": "stream",
     "text": [
      "Overwriting existing file \"C:\\Users\\ameimand\\Anaconda3\\Lib\\site-packages\\tabpy\\tabpy_server\\staging\\endpoints\\Optimize_Coverage\\1\" when saving query object\n"
     ]
    }
   ],
   "source": [
    "# Connect to TabPy server using the client library\n",
    "client = Client('http://localhost:9004/')\n",
    "\n",
    "\n",
    "# Deploy Optimize_Coverage function on TabPy \n",
    "client.deploy('Optimize_Coverage',\n",
    "                  Optimize_Coverage,\n",
    "                  'Optimize total coverage by considering resource limitation', override = True)"
   ]
  },
  {
   "cell_type": "code",
   "execution_count": 35,
   "id": "d21cb14e",
   "metadata": {},
   "outputs": [],
   "source": [
    "client.remove('Emotion_Prediction')"
   ]
  },
  {
   "cell_type": "code",
   "execution_count": null,
   "id": "8bea6353",
   "metadata": {},
   "outputs": [],
   "source": []
  }
 ],
 "metadata": {
  "kernelspec": {
   "display_name": "Python 3 (ipykernel)",
   "language": "python",
   "name": "python3"
  },
  "language_info": {
   "codemirror_mode": {
    "name": "ipython",
    "version": 3
   },
   "file_extension": ".py",
   "mimetype": "text/x-python",
   "name": "python",
   "nbconvert_exporter": "python",
   "pygments_lexer": "ipython3",
   "version": "3.8.3"
  }
 },
 "nbformat": 4,
 "nbformat_minor": 5
}
